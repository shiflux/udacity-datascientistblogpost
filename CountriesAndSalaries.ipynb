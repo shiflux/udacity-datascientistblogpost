{
 "cells": [
  {
   "cell_type": "code",
   "execution_count": null,
   "metadata": {},
   "outputs": [],
   "source": []
  }
 ],
 "metadata": {
  "kernelspec": {
   "display_name": "Python 3.10.4 ('udacity-datascientistblogpost-ye8BcQJT')",
   "language": "python",
   "name": "python3"
  },
  "language_info": {
   "name": "python",
   "version": "3.10.4"
  },
  "vscode": {
   "interpreter": {
    "hash": "c5b5ddb01bde4c4fbc5af36b6fba31e50a7e913556f7efd2d9abf864c75a5c6a"
   }
  }
 },
 "nbformat": 4,
 "nbformat_minor": 5
}
